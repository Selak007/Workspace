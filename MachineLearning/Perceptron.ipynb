{
  "nbformat": 4,
  "nbformat_minor": 0,
  "metadata": {
    "colab": {
      "provenance": []
    },
    "kernelspec": {
      "name": "python3",
      "display_name": "Python 3"
    },
    "language_info": {
      "name": "python"
    }
  },
  "cells": [
    {
      "cell_type": "code",
      "execution_count": 7,
      "metadata": {
        "id": "8zI1-ARXe0t_"
      },
      "outputs": [],
      "source": [
        "import numpy as np"
      ]
    },
    {
      "cell_type": "code",
      "source": [
        "def step_activation(x):\n",
        "  return 1 if x>=0 else 0"
      ],
      "metadata": {
        "id": "FC2MMT-8e3wM"
      },
      "execution_count": 2,
      "outputs": []
    },
    {
      "cell_type": "code",
      "source": [
        "class Perceptron:\n",
        "  def __init__(self,input_size,lr = 0.1,epochs = 10):\n",
        "    self.weights = numpy.zeros(input_size)\n",
        "    self.lr = lr\n",
        "    self.epochs = epochs\n",
        "    self.bias = 0\n",
        "\n",
        "  def predict(self,X):\n",
        "    lin_iout = numpy.dot(self.weights,X) + self.bias\n",
        "    return step_activation(lin_iout)\n",
        "\n",
        "  def train(self,X,y):\n",
        "    for n in range(self.epochs):\n",
        "      for k in range(len(X)):\n",
        "        y_pred = self.predict(X[k])\n",
        "        error = y[k] - y_pred\n",
        "        self.weights += self.lr*error*X[k]\n",
        "        self.bias += self.lr*error"
      ],
      "metadata": {
        "id": "8vysRLbwfCxz"
      },
      "execution_count": 11,
      "outputs": []
    },
    {
      "cell_type": "code",
      "source": [
        "X = np.array([[0,0], [0,1], [1,0], [1,1]])\n",
        "y = np.array([0, 0, 0, 1])"
      ],
      "metadata": {
        "id": "J9sq6GiOfFBl"
      },
      "execution_count": 12,
      "outputs": []
    },
    {
      "cell_type": "code",
      "source": [
        "perceptron = Perceptron(input_size=2)\n",
        "perceptron.train(X, y)"
      ],
      "metadata": {
        "id": "O4U25eSKghXF"
      },
      "execution_count": 13,
      "outputs": []
    },
    {
      "cell_type": "code",
      "source": [
        "for i in range(len(X)):\n",
        "    print(f\"Input: {X[i]}, Prediction: {perceptron.predict(X[i])}\")"
      ],
      "metadata": {
        "colab": {
          "base_uri": "https://localhost:8080/"
        },
        "id": "nlJ3Ih9Pgn3U",
        "outputId": "89a390b2-7667-4618-fbe9-007c29c934fc"
      },
      "execution_count": 14,
      "outputs": [
        {
          "output_type": "stream",
          "name": "stdout",
          "text": [
            "Input: [0 0], Prediction: 0\n",
            "Input: [0 1], Prediction: 0\n",
            "Input: [1 0], Prediction: 0\n",
            "Input: [1 1], Prediction: 1\n"
          ]
        }
      ]
    },
    {
      "cell_type": "code",
      "source": [],
      "metadata": {
        "id": "5_LH4O9og8S-"
      },
      "execution_count": null,
      "outputs": []
    }
  ]
}